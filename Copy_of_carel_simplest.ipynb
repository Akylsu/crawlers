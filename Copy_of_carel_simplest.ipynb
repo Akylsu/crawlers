{
  "nbformat": 4,
  "nbformat_minor": 0,
  "metadata": {
    "colab": {
      "name": "Copy of carel-simplest.ipynb",
      "version": "0.3.2",
      "provenance": [],
      "include_colab_link": true
    },
    "kernelspec": {
      "name": "python3",
      "display_name": "Python 3"
    }
  },
  "cells": [
    {
      "cell_type": "markdown",
      "metadata": {
        "id": "view-in-github",
        "colab_type": "text"
      },
      "source": [
        "<a href=\"https://colab.research.google.com/github/Akylsu/crawlers/blob/master/Copy_of_carel_simplest.ipynb\" target=\"_parent\"><img src=\"https://colab.research.google.com/assets/colab-badge.svg\" alt=\"Open In Colab\"/></a>"
      ]
    },
    {
      "metadata": {
        "id": "hwtYsz1cgrL1",
        "colab_type": "code",
        "outputId": "0077fe80-0d3b-405d-f80a-697bfa83935e",
        "colab": {
          "base_uri": "https://localhost:8080/",
          "height": 88
        }
      },
      "cell_type": "code",
      "source": [
        "!git clone https://github.com/Rinatius/carel-jupyter.git"
      ],
      "execution_count": 15,
      "outputs": [
        {
          "output_type": "stream",
          "text": [
            "Cloning into 'carel-jupyter'...\n",
            "remote: Enumerating objects: 30, done.\u001b[K\n",
            "Unpacking objects:   3% (1/30)   \rUnpacking objects:   6% (2/30)   \rUnpacking objects:  10% (3/30)   \rUnpacking objects:  13% (4/30)   \rUnpacking objects:  16% (5/30)   \rUnpacking objects:  20% (6/30)   \rUnpacking objects:  23% (7/30)   \rUnpacking objects:  26% (8/30)   \rUnpacking objects:  30% (9/30)   \rUnpacking objects:  33% (10/30)   \rUnpacking objects:  36% (11/30)   \rremote: Total 30 (delta 0), reused 0 (delta 0), pack-reused 30\u001b[K\n",
            "Unpacking objects:  40% (12/30)   \rUnpacking objects:  43% (13/30)   \rUnpacking objects:  46% (14/30)   \rUnpacking objects:  50% (15/30)   \rUnpacking objects:  53% (16/30)   \rUnpacking objects:  56% (17/30)   \rUnpacking objects:  60% (18/30)   \rUnpacking objects:  63% (19/30)   \rUnpacking objects:  66% (20/30)   \rUnpacking objects:  70% (21/30)   \rUnpacking objects:  73% (22/30)   \rUnpacking objects:  76% (23/30)   \rUnpacking objects:  80% (24/30)   \rUnpacking objects:  83% (25/30)   \rUnpacking objects:  86% (26/30)   \rUnpacking objects:  90% (27/30)   \rUnpacking objects:  93% (28/30)   \rUnpacking objects:  96% (29/30)   \rUnpacking objects: 100% (30/30)   \rUnpacking objects: 100% (30/30), done.\n"
          ],
          "name": "stdout"
        }
      ]
    },
    {
      "metadata": {
        "id": "y-PrSblahQvP",
        "colab_type": "code",
        "outputId": "2aa742fe-1f3b-4ed7-fb76-be6a15f02ff6",
        "colab": {
          "base_uri": "https://localhost:8080/",
          "height": 52
        }
      },
      "cell_type": "code",
      "source": [
        "%cd /content\n",
        "%cd carel-jupyter"
      ],
      "execution_count": 117,
      "outputs": [
        {
          "output_type": "stream",
          "text": [
            "/content\n",
            "/content/carel-jupyter\n"
          ],
          "name": "stdout"
        }
      ]
    },
    {
      "metadata": {
        "id": "e0l5Sh7jg4LF",
        "colab_type": "code",
        "outputId": "87bee129-d454-4075-ca1c-78453e64fe9d",
        "colab": {
          "base_uri": "https://localhost:8080/",
          "height": 88
        }
      },
      "cell_type": "code",
      "source": [
        "from carel import Carel\n",
        "from carelgrid import CarelGrid\n",
        "from gamecanvas import GameCanvas\n",
        "\n",
        "field = [[0 for x in range(6)] for y in range(4)]\n",
        "\n",
        "field[0][1] = 1\n",
        "field[1][0] = 2\n",
        "field[3][2] = 1\n",
        "\n",
        "grid = CarelGrid(field)\n",
        "canvas = GameCanvas(speed=1);\n",
        "carel = Carel(canvas, grid);\n",
        "\n",
        "def move():\n",
        "    carel.move()\n",
        "def turn_left():\n",
        "    carel.turn_left()\n",
        "def drop_beeper():\n",
        "    carel.drop_beeper()\n",
        "def collect_beeper():\n",
        "    carel.collect_beeper()\n",
        "def is_beeper():\n",
        "    return carel.is_beeper()\n",
        "def is_front_clear():\n",
        "    return carel.is_front_clear()\n",
        "def show():\n",
        "    carel.show()"
      ],
      "execution_count": 328,
      "outputs": [
        {
          "output_type": "stream",
          "text": [
            "',(0):>   1      0      0      0      0   \n",
            "   2      0      0      0      0      0   \n",
            "   0      0      0      0      0      0   \n",
            "   0      0      1      0      0      0   \n"
          ],
          "name": "stdout"
        }
      ]
    },
    {
      "metadata": {
        "id": "twV-io0KhNgd",
        "colab_type": "code",
        "colab": {
          "base_uri": "https://localhost:8080/",
          "height": 132
        },
        "outputId": "604b7700-ec45-468c-f739-5303317c03a9"
      },
      "cell_type": "code",
      "source": [
        "# New methods go here\n",
        "\n",
        "# Example\n",
        "\n",
        "def turn_around():\n",
        "    for x in range(2):\n",
        "        turn_left()\n",
        "def turn_right ():\n",
        "    for i in range (3):\n",
        "        turn_left()\n",
        "        \n",
        "def multi_move(n):\n",
        "    for i in range(n):\n",
        "         move()\n",
        "        \n",
        "        \n",
        "def  collect_all_beepers():\n",
        "    while(is_beeper()):\n",
        "        collect_beeper()\n",
        "      \n",
        "    \n",
        "def collect_one_beeper():\n",
        "    if is_beeper():\n",
        "        collect_beeper()\n",
        "        \n",
        "        \n",
        "def collect_or_drop_beeper():\n",
        "    if is_beeper():\n",
        "        collect_beeper()\n",
        "    else:\n",
        "        drop_beeper()\n",
        "        \n",
        "def leave_one_beeper():\n",
        "    collect_all_beepers()\n",
        "    drop_beeper()\n",
        "\n",
        "        \n",
        "        \n",
        "def ones_to_wall():\n",
        "    while(True):\n",
        "        leave_one_beeper()\n",
        "        if is_front_clear:\n",
        "                move()\n",
        "        else:\n",
        "            break\n",
        "        \n",
        "        \n",
        "#      def leave_one_beeper():\n",
        "#         collect()all_beeper()\n",
        "#         drop_beeper()\n",
        "          \n",
        "#1 обнулить по периметру  \n",
        "\n",
        "def clear_to_wall():\n",
        "    while(true):\n",
        "        collect_all_beepers()\n",
        "        if is_front_clear ():\n",
        "            collect_all_beepers()\n",
        "    \n",
        "\n",
        "\n",
        "#2 5 по периметру          \n",
        "def fill_perimeter (n):\n",
        "    while (True):\n",
        "        move()\n",
        "        collect_all_beepers()\n",
        "        for i in range(n):\n",
        "             drop_beeper()\n",
        "        \n",
        "        \n",
        "                   \n",
        "def fill_to_wall(num):\n",
        "    while(is_front_clear()):\n",
        "                    collect_all_beepers()\n",
        "                    for i in range(num):\n",
        "                        drop_beeper()\n",
        "                    move()\n",
        "\n",
        "def fill_perimeter_2 (num):\n",
        "    for i in range (4):\n",
        "                   fill_to_wall(num)\n",
        "    turn_right()\n",
        "\n",
        "\n",
        "def count_to_wall():\n",
        "    shagi = 0\n",
        "'''    \n",
        "    while (True):\n",
        "      \n",
        "        if is_front_clear():\n",
        "            shagi = shagi +1    \n",
        "           move ()\n",
        "        else:\n",
        "            break\n",
        "    \n",
        "'''    \n",
        "    while (is_front_clear()):\n",
        "        shagi=shagi+1\n",
        "        move()\n",
        "    return shagi\n",
        "        \n",
        "    \n",
        "def multi_drop(x):\n",
        "    for i in range(x):\n",
        "        drop_beeper()\n"
      ],
      "execution_count": 329,
      "outputs": [
        {
          "output_type": "error",
          "ename": "IndentationError",
          "evalue": "ignored",
          "traceback": [
            "\u001b[0;36m  File \u001b[0;32m\"<ipython-input-329-9b395a92bd9c>\"\u001b[0;36m, line \u001b[0;32m94\u001b[0m\n\u001b[0;31m    while (is_front_clear()):\u001b[0m\n\u001b[0m    ^\u001b[0m\n\u001b[0;31mIndentationError\u001b[0m\u001b[0;31m:\u001b[0m unexpected indent\n"
          ]
        }
      ]
    },
    {
      "metadata": {
        "id": "p2v8-7EessZi",
        "colab_type": "code",
        "colab": {
          "base_uri": "https://localhost:8080/",
          "height": 35
        },
        "outputId": "9e6a52be-66d3-482d-bbe7-2350c2c004c6"
      },
      "cell_type": "code",
      "source": [
        "a =10\n",
        "b=6\n",
        "\n",
        "def minus(first,second):\n",
        "    diff=first-second\n",
        "    return diff\n",
        "\n",
        "print(minus(a,b))"
      ],
      "execution_count": 276,
      "outputs": [
        {
          "output_type": "stream",
          "text": [
            "4\n"
          ],
          "name": "stdout"
        }
      ]
    },
    {
      "metadata": {
        "id": "gLFbrRSYt2GJ",
        "colab_type": "code",
        "colab": {
          "base_uri": "https://localhost:8080/",
          "height": 88
        },
        "outputId": "4ee94d99-f914-46f5-c7ea-19589d62de54"
      },
      "cell_type": "code",
      "source": [
        "#count steps\n",
        "\n",
        "steps = count_to_wall()\n",
        "collect_all_beepers()\n",
        "multi_drop(steps)\n",
        "\n",
        "\n",
        "#print(steps())"
      ],
      "execution_count": 325,
      "outputs": [
        {
          "output_type": "stream",
          "text": [
            "   0      1      0      0      0   ',(5):>\n",
            "   2      0      0      0      0      0   \n",
            "   0      0      0      0      0      0   \n",
            "   0      0      1      0      0      0   \n"
          ],
          "name": "stdout"
        }
      ]
    },
    {
      "metadata": {
        "id": "PuKSErOaiEEd",
        "colab_type": "code",
        "outputId": "e5595523-6548-4f4f-a8cd-ccb36405efa0",
        "colab": {
          "base_uri": "https://localhost:8080/",
          "height": 88
        }
      },
      "cell_type": "code",
      "source": [
        "\n",
        "# perimeter\n",
        "#исправить баги\n",
        "show()\n",
        "\n",
        "for i in range(4):\n",
        "    fill_perimeter_2(3)\n",
        "  \n",
        "\n",
        "\n"
      ],
      "execution_count": 252,
      "outputs": [
        {
          "output_type": "stream",
          "text": [
            "',(3):>   3      3      3      3      3   \n",
            "   3      0      0      0      0      3   \n",
            "   3      0      0      0      0      3   \n",
            "   3      3      3      3      3      3   \n"
          ],
          "name": "stdout"
        }
      ]
    },
    {
      "metadata": {
        "id": "AEYMXm0tiLw-",
        "colab_type": "code",
        "colab": {
          "base_uri": "https://localhost:8080/",
          "height": 88
        },
        "outputId": "db20628c-83b2-4ae1-e535-490846bc7667"
      },
      "cell_type": "code",
      "source": [
        "# collect all beepers\n",
        "show()\n",
        "turn_right()\n",
        "move()\n",
        "collect_all_beepers()\n",
        "\n",
        "\n",
        "\n",
        "\n",
        "  \n"
      ],
      "execution_count": 200,
      "outputs": [
        {
          "output_type": "stream",
          "text": [
            "   0      0      0      0      0      0   \n",
            "',(0):v   0      0      0      0      0   \n",
            "   0      0      0      0      0      0   \n",
            "   0      0      0      0      0      0   \n"
          ],
          "name": "stdout"
        }
      ]
    },
    {
      "metadata": {
        "id": "XshwYq7jsXJ5",
        "colab_type": "code",
        "colab": {
          "base_uri": "https://localhost:8080/",
          "height": 88
        },
        "outputId": "4622cea4-ffb2-48ae-d0ec-3c42782ec66a"
      },
      "cell_type": "code",
      "source": [
        "#collect one beeper\n",
        "\n",
        "show()\n",
        "\n",
        "turn_right()\n",
        "move()\n",
        "collect_one_beeper()\n"
      ],
      "execution_count": 163,
      "outputs": [
        {
          "output_type": "stream",
          "text": [
            "   0      1      0      0      0      0   \n",
            "',(1):v   0      0      0      0      0   \n",
            "   0      0      0      0      0      0   \n",
            "   0      0      1      0      0      0   \n"
          ],
          "name": "stdout"
        }
      ]
    },
    {
      "metadata": {
        "id": "hFxLlCW6s2Rp",
        "colab_type": "code",
        "colab": {
          "base_uri": "https://localhost:8080/",
          "height": 88
        },
        "outputId": "5c700c7f-65da-4836-c806-63659cf24cf0"
      },
      "cell_type": "code",
      "source": [
        "show()\n",
        "\n",
        "#make ones in perimeter\n",
        "for i in range(4):\n",
        "  ones_to_wall()\n",
        "  turn_right()\n",
        "\n"
      ],
      "execution_count": 181,
      "outputs": [
        {
          "output_type": "stream",
          "text": [
            "',(1):>   1      1      1      1      1   \n",
            "   1      0      0      0      0      1   \n",
            "   1      0      0      0      0      1   \n",
            "   1      1      1      1      1      1   \n"
          ],
          "name": "stdout"
        }
      ]
    },
    {
      "metadata": {
        "id": "CapqBRTbs5FW",
        "colab_type": "code",
        "colab": {
          "base_uri": "https://localhost:8080/",
          "height": 88
        },
        "outputId": "15a0ebc9-c3df-4f1c-8c90-a68daca3f790"
      },
      "cell_type": "code",
      "source": [
        "#make zeros on the perimeter\n",
        "show()\n",
        "for i in range(4):\n",
        "    clear_to_wall()\n",
        "    turn_right()\n",
        "  "
      ],
      "execution_count": 204,
      "outputs": [
        {
          "output_type": "stream",
          "text": [
            "',(0):>   0      0      0      0      0   \n",
            "   0      0      0      0      0      0   \n",
            "   0      0      0      0      0      0   \n",
            "   0      0      0      0      0      0   \n"
          ],
          "name": "stdout"
        }
      ]
    },
    {
      "metadata": {
        "id": "3KoQs9ttvHu5",
        "colab_type": "code",
        "colab": {
          "base_uri": "https://localhost:8080/",
          "height": 88
        },
        "outputId": "0ed28757-47c2-4a7c-a142-3acec4988278"
      },
      "cell_type": "code",
      "source": [
        "print()\n",
        "for i in range(4):\n",
        "    fill_perimeter(5)\n",
        "    turn_right()"
      ],
      "execution_count": 209,
      "outputs": [
        {
          "output_type": "stream",
          "text": [
            "',(5):>   5      5      5      5      5   \n",
            "   5      0      0      0      0      5   \n",
            "   5      0      0      0      0      5   \n",
            "   5      5      5      5      5      5   \n"
          ],
          "name": "stdout"
        }
      ]
    },
    {
      "metadata": {
        "id": "s1bilnODvZoE",
        "colab_type": "code",
        "colab": {}
      },
      "cell_type": "code",
      "source": [
        "# count number of steps\n",
        "\n"
      ],
      "execution_count": 0,
      "outputs": []
    },
    {
      "metadata": {
        "id": "CE3aJ-tdvhiy",
        "colab_type": "code",
        "colab": {}
      },
      "cell_type": "code",
      "source": [
        ""
      ],
      "execution_count": 0,
      "outputs": []
    },
    {
      "metadata": {
        "id": "EYS5FyRzv3md",
        "colab_type": "code",
        "colab": {}
      },
      "cell_type": "code",
      "source": [
        ""
      ],
      "execution_count": 0,
      "outputs": []
    },
    {
      "metadata": {
        "id": "hJfbpGLDyFYV",
        "colab_type": "code",
        "colab": {}
      },
      "cell_type": "code",
      "source": [
        ""
      ],
      "execution_count": 0,
      "outputs": []
    },
    {
      "metadata": {
        "id": "lPayIn1Fy2ki",
        "colab_type": "code",
        "colab": {}
      },
      "cell_type": "code",
      "source": [
        ""
      ],
      "execution_count": 0,
      "outputs": []
    }
  ]
}