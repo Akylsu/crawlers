{
  "nbformat": 4,
  "nbformat_minor": 0,
  "metadata": {
    "colab": {
      "name": "Day 1 homework.ipynb",
      "version": "0.3.2",
      "provenance": [],
      "include_colab_link": true
    },
    "kernelspec": {
      "name": "python3",
      "display_name": "Python 3"
    }
  },
  "cells": [
    {
      "cell_type": "markdown",
      "metadata": {
        "id": "view-in-github",
        "colab_type": "text"
      },
      "source": [
        "<a href=\"https://colab.research.google.com/github/Akylsu/crawlers/blob/master/Day_1_homework.ipynb\" target=\"_parent\"><img src=\"https://colab.research.google.com/assets/colab-badge.svg\" alt=\"Open In Colab\"/></a>"
      ]
    },
    {
      "metadata": {
        "id": "jWByWEU7GPQJ",
        "colab_type": "code",
        "colab": {
          "base_uri": "https://localhost:8080/",
          "height": 35
        },
        "outputId": "7be81839-b194-47ba-f05b-b791f8c85b03"
      },
      "cell_type": "code",
      "source": [
        "!git clone https://github.com/Rinatius/carel-jupyter.git "
      ],
      "execution_count": 1,
      "outputs": [
        {
          "output_type": "stream",
          "text": [
            "fatal: destination path 'carel-jupyter' already exists and is not an empty directory.\n"
          ],
          "name": "stdout"
        }
      ]
    },
    {
      "metadata": {
        "id": "Y1J2KcmpGUGq",
        "colab_type": "code",
        "colab": {
          "base_uri": "https://localhost:8080/",
          "height": 52
        },
        "outputId": "4c065d8c-4e64-45fe-ecf1-4abbe75d183b"
      },
      "cell_type": "code",
      "source": [
        "%cd /content\n",
        "%cd carel-jupyter"
      ],
      "execution_count": 9,
      "outputs": [
        {
          "output_type": "stream",
          "text": [
            "/content\n",
            "/content/carel-jupyter\n"
          ],
          "name": "stdout"
        }
      ]
    },
    {
      "metadata": {
        "id": "NLFO-a7DGaAU",
        "colab_type": "code",
        "colab": {
          "base_uri": "https://localhost:8080/",
          "height": 88
        },
        "outputId": "aa089859-2b99-47e2-8590-f62d4d2205be"
      },
      "cell_type": "code",
      "source": [
        "from carel import Carel\n",
        "from carelgrid import CarelGrid\n",
        "from gamecanvas import GameCanvas\n",
        "\n",
        "field = [[0 for x in range(6)] for y in range(4)]\n",
        "\n",
        "field[0][1] = 1\n",
        "field[1][0] = 2\n",
        "field[3][2] = 1\n",
        "\n",
        "grid = CarelGrid(field)\n",
        "canvas = GameCanvas(speed=1);\n",
        "carel = Carel(canvas, grid);\n",
        "\n",
        "def move():\n",
        "    carel.move()\n",
        "def turn_left():\n",
        "    carel.turn_left()\n",
        "def drop_beeper():\n",
        "    carel.drop_beeper()\n",
        "def collect_beeper():\n",
        "    carel.collect_beeper()\n",
        "def is_beeper():\n",
        "    return carel.is_beeper()\n",
        "def is_front_clear():\n",
        "    return carel.is_front_clear()\n",
        "def show():\n",
        "    carel.show()"
      ],
      "execution_count": 152,
      "outputs": [
        {
          "output_type": "stream",
          "text": [
            "',(0):>   1      0      0      0      0   \n",
            "   2      0      0      0      0      0   \n",
            "   0      0      0      0      0      0   \n",
            "   0      0      1      0      0      0   \n"
          ],
          "name": "stdout"
        }
      ]
    },
    {
      "metadata": {
        "id": "Ma3g1H8XGpgV",
        "colab_type": "code",
        "colab": {}
      },
      "cell_type": "code",
      "source": [
        "# New methods go here\n",
        "\n",
        "# Example\n",
        "\n",
        "def turn_around():\n",
        "    for x in range(2):\n",
        "        turn_left()\n",
        "def turn_right ():\n",
        "    for i in range (3):\n",
        "        turn_left()\n",
        "        \n",
        "def multi_move(n):\n",
        "    for i in range(n):\n",
        "         move()\n",
        "\n",
        "def  collect_all_beepers():\n",
        "    while(is_beeper()):\n",
        "        collect_beeper()\n",
        "      \n",
        "    \n",
        "def collect_one_beeper():\n",
        "    if is_beeper():\n",
        "        collect_beeper()\n",
        "        \n",
        "        \n",
        "def collect_or_drop_beeper():\n",
        "    if is_beeper():\n",
        "        collect_beeper()\n",
        "    else:\n",
        "        drop_beeper()\n",
        "        \n",
        "def leave_one_beeper():\n",
        "    collect_all_beepers()\n",
        "    drop_beeper()\n",
        "\n",
        "      \n",
        "def ones_to_wall():\n",
        "    while(True):\n",
        "        leave_one_beeper()\n",
        "        if is_front_clear:\n",
        "                move()\n",
        "        else:\n",
        "            break\n",
        "\n",
        "'''\n",
        "def leave_two_beepers():\n",
        "    collect_all_beepers()\n",
        "    for i in range(2):\n",
        "        drop_beeper()\n",
        "        \n",
        "def doubles_to_wall():\n",
        "    while (True):\n",
        "        leave_two_beepers()\n",
        "        if is_front_clear:\n",
        "            move()\n",
        "        else:\n",
        "            break\n",
        "'''\n",
        "            \n",
        "#      def leave_one_beeper():\n",
        "#         collect()all_beeper()\n",
        "#         drop_beeper()\n",
        "          \n",
        "#1 обнулить по периметру  \n",
        "\n",
        "def clear_to_wall():\n",
        "    while(True):\n",
        "        collect_all_beepers()\n",
        "        if is_front_clear ():\n",
        "            move()\n",
        "        else: \n",
        "            break\n",
        "'''\n",
        "def clear_to_wall():\n",
        "    while(is_front_clear()):\n",
        "        collect_all_beepers()\n",
        "        move()\n",
        "'''\n",
        "\n",
        "\n",
        "      \n",
        "        \n",
        "                   \n",
        "def fill_to_wall(num):\n",
        "    while(is_front_clear()):\n",
        "                    collect_all_beepers()\n",
        "                    for i in range(num):\n",
        "                        drop_beeper()\n",
        "                    move()\n",
        "\n",
        "def fill_perimeter_2 (num):\n",
        "    for i in range (4):\n",
        "                   fill_to_wall(num)\n",
        "    turn_right()\n",
        "\n",
        "\n",
        "def count_to_wall():\n",
        "    shagi = 0\n",
        "    while (is_front_clear()):\n",
        "        shagi=shagi+1\n",
        "        move()\n",
        "    return shagi\n"
      ],
      "execution_count": 0,
      "outputs": []
    },
    {
      "metadata": {
        "id": "xpI9SswqHnQd",
        "colab_type": "code",
        "colab": {
          "base_uri": "https://localhost:8080/",
          "height": 88
        },
        "outputId": "4c3018ff-042e-4a4b-dde9-ffd9b90efb81"
      },
      "cell_type": "code",
      "source": [
        "#1. очистить все поле\n",
        "\n",
        "#двигаться змейкой\n",
        "\n",
        "while (True):\n",
        "    clear_to_wall()\n",
        "    turn_right()\n",
        "    if is_front_clear():\n",
        "        move()\n",
        "    else :\n",
        "        break  \n",
        "    turn_right()\n",
        "    clear_to_wall()\n",
        "    turn_left()\n",
        "    if is_front_clear():    \n",
        "        move()\n",
        "        turn_left()\n",
        "    else:\n",
        "        break\n",
        "#    turn_left()\n",
        "   \n",
        " \n",
        "\n",
        "#5. Создать метоод transport_beepers(n), в результате которого биперы перетаскиваются на n клеток"
      ],
      "execution_count": 142,
      "outputs": [
        {
          "output_type": "stream",
          "text": [
            "   0      0      0      0      0      0   \n",
            "   0      0      0      0      0      0   \n",
            "   0      0      0      0      0      0   \n",
            "',(0):v   0      0      0      0      0   \n"
          ],
          "name": "stdout"
        }
      ]
    },
    {
      "metadata": {
        "id": "tSnM1H2QTXk5",
        "colab_type": "code",
        "colab": {
          "base_uri": "https://localhost:8080/",
          "height": 88
        },
        "outputId": "a62c4321-bed3-41e2-d4b6-d2a83b335e6e"
      },
      "cell_type": "code",
      "source": [
        "#2 fill desired num of beepers          \n",
        "def fill_num (n):\n",
        "    while (True):\n",
        "        if is_front_clear():\n",
        "            collect_all_beepers()\n",
        "            for i in range(n):\n",
        "                drop_beeper()\n",
        "            move()\n",
        "        else:\n",
        "            collect_all_beepers()\n",
        "            for i in range(n):\n",
        "                drop_beeper()\n",
        "            break\n",
        "\n",
        "\n",
        "while (True):\n",
        "    fill_num (2)\n",
        "    turn_right()\n",
        "    if is_front_clear():\n",
        "        move()\n",
        "    else :\n",
        "        break  \n",
        "    turn_right()\n",
        "    fill_num (2)\n",
        "    turn_left()\n",
        "    if is_front_clear():    \n",
        "        move()\n",
        "        turn_left()\n",
        "    else:\n",
        "        break\n"
      ],
      "execution_count": 145,
      "outputs": [
        {
          "output_type": "stream",
          "text": [
            "   2      2      2      2      2      2   \n",
            "   2      2      2      2      2      2   \n",
            "   2      2      2      2      2      2   \n",
            "',(2):v   2      2      2      2      2   \n"
          ],
          "name": "stdout"
        }
      ]
    },
    {
      "metadata": {
        "id": "ZsqN9mHbVkgs",
        "colab_type": "code",
        "colab": {
          "base_uri": "https://localhost:8080/",
          "height": 35
        },
        "outputId": "7bc0d879-be07-4a28-fced-8d616cf7a5f8"
      },
      "cell_type": "code",
      "source": [
        ""
      ],
      "execution_count": 40,
      "outputs": [
        {
          "output_type": "stream",
          "text": [
            "Enter the desired number of beepers:5\n"
          ],
          "name": "stdout"
        }
      ]
    },
    {
      "metadata": {
        "id": "ZTo1E3mUVJLD",
        "colab_type": "code",
        "colab": {
          "base_uri": "https://localhost:8080/",
          "height": 88
        },
        "outputId": "3283b637-6f6e-454b-abec-b993c85fe18e"
      },
      "cell_type": "code",
      "source": [
        "\n",
        "#3 fill desired num of beepers заполнить поле любым числом по параметру       \n",
        "def fill_num (n):\n",
        "    while (True):\n",
        "        if is_front_clear():\n",
        "            collect_all_beepers()\n",
        "            for i in range(n):\n",
        "                drop_beeper()\n",
        "            move()\n",
        "        else:\n",
        "            collect_all_beepers()\n",
        "            for i in range(n):\n",
        "                drop_beeper()\n",
        "            break\n",
        "\n",
        "\n",
        "sval=input(\"Enter the desired number of beepers:\")\n",
        "x=int(sval) \n",
        "\n",
        "\n",
        "while (True):\n",
        "    fill_num (x)\n",
        "    turn_right()\n",
        "    if is_front_clear():\n",
        "        move()\n",
        "    else :\n",
        "        break  \n",
        "    turn_right()\n",
        "    fill_num (x)\n",
        "    turn_left()\n",
        "    if is_front_clear():    \n",
        "        move()\n",
        "        turn_left()\n",
        "    else:\n",
        "        break"
      ],
      "execution_count": 148,
      "outputs": [
        {
          "output_type": "stream",
          "text": [
            "   5      5      5      5      5      5   \n",
            "   5      5      5      5      5      5   \n",
            "   5      5      5      5      5      5   \n",
            "',(5):v   5      5      5      5      5   \n"
          ],
          "name": "stdout"
        }
      ]
    },
    {
      "metadata": {
        "id": "Rz5L9Pr3ZgiI",
        "colab_type": "code",
        "colab": {
          "base_uri": "https://localhost:8080/",
          "height": 88
        },
        "outputId": "340bf51a-802e-4cfa-fe44-4d1209fe510c"
      },
      "cell_type": "code",
      "source": [
        "# 4 chess maze\n",
        "def maze_to_wall():\n",
        "    while (True): \n",
        "        if is_front_clear():\n",
        "            leave_one_beeper()\n",
        "            move()\n",
        "        else :\n",
        "            break\n",
        "        if is_front_clear():\n",
        "            collect_all_beepers()\n",
        "            move()\n",
        "        else:\n",
        "            collect_all_beepers()\n",
        "            break            \n",
        "\n",
        "\n",
        "while (True):\n",
        "    maze_to_wall()\n",
        "    turn_right()\n",
        "    if is_front_clear ():\n",
        "        move()\n",
        "    else :\n",
        "        break  \n",
        "    turn_right()\n",
        "    maze_to_wall ()\n",
        "    turn_left()\n",
        "    if is_front_clear():    \n",
        "        move()\n",
        "        turn_left()\n",
        "    else:\n",
        "        break"
      ],
      "execution_count": 151,
      "outputs": [
        {
          "output_type": "stream",
          "text": [
            "   1      0      1      0      1      0   \n",
            "   0      1      0      1      0      1   \n",
            "   1      0      1      0      1      0   \n",
            "',(0):v   1      0      1      0      1   \n"
          ],
          "name": "stdout"
        }
      ]
    },
    {
      "metadata": {
        "id": "seRPM7o_h-ut",
        "colab_type": "code",
        "colab": {
          "base_uri": "https://localhost:8080/",
          "height": 88
        },
        "outputId": "6224ac07-f90f-448c-9e8c-9dd38f8149a1"
      },
      "cell_type": "code",
      "source": [
        "#5 collects all bleepers, moves to another cell, and drops collected bleepers\n",
        "\n",
        "def collect_beepers():\n",
        "    number=0\n",
        "    while is_beeper() :\n",
        "        collect_one_beeper()\n",
        "        number = number + 1\n",
        "        \n",
        "        \n",
        "    return number\n",
        "\n",
        "def multi_drop(x):\n",
        "    for i in range(x):\n",
        "        drop_beeper()\n",
        "\n",
        "\n",
        "\n",
        "\n",
        "turn_right()\n",
        "move()\n",
        "collected = collect_beepers()\n",
        "turn_left()\n",
        "for x in range(3):\n",
        "    move()\n",
        "\n",
        "multi_drop(collected)\n",
        "\n",
        "\n"
      ],
      "execution_count": 154,
      "outputs": [
        {
          "output_type": "stream",
          "text": [
            "   0      1      0      0      0      0   \n",
            "   0      0      0   ',(2):>   0      0   \n",
            "   0      0      0      0      0      0   \n",
            "   0      0      1      0      0      0   \n"
          ],
          "name": "stdout"
        }
      ]
    },
    {
      "metadata": {
        "id": "y0VtfRthuB8U",
        "colab_type": "code",
        "colab": {}
      },
      "cell_type": "code",
      "source": [
        ""
      ],
      "execution_count": 0,
      "outputs": []
    }
  ]
}