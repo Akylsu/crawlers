{
  "nbformat": 4,
  "nbformat_minor": 0,
  "metadata": {
    "colab": {
      "name": "day 1 classwork.ipynb",
      "version": "0.3.2",
      "provenance": [],
      "include_colab_link": true
    },
    "kernelspec": {
      "name": "python3",
      "display_name": "Python 3"
    }
  },
  "cells": [
    {
      "cell_type": "markdown",
      "metadata": {
        "id": "view-in-github",
        "colab_type": "text"
      },
      "source": [
        "<a href=\"https://colab.research.google.com/github/Akylsu/crawlers/blob/master/day_1_classwork.ipynb\" target=\"_parent\"><img src=\"https://colab.research.google.com/assets/colab-badge.svg\" alt=\"Open In Colab\"/></a>"
      ]
    },
    {
      "metadata": {
        "id": "hwtYsz1cgrL1",
        "colab_type": "code",
        "outputId": "1c5c2f87-dde2-4208-f7de-9933dc087aac",
        "colab": {
          "base_uri": "https://localhost:8080/",
          "height": 35
        }
      },
      "cell_type": "code",
      "source": [
        "!git clone https://github.com/Rinatius/carel-jupyter.git"
      ],
      "execution_count": 331,
      "outputs": [
        {
          "output_type": "stream",
          "text": [
            "fatal: destination path 'carel-jupyter' already exists and is not an empty directory.\n"
          ],
          "name": "stdout"
        }
      ]
    },
    {
      "metadata": {
        "id": "y-PrSblahQvP",
        "colab_type": "code",
        "outputId": "ee93aa0e-4a62-4010-93d2-e22aa681db20",
        "colab": {
          "base_uri": "https://localhost:8080/",
          "height": 52
        }
      },
      "cell_type": "code",
      "source": [
        "%cd /content\n",
        "%cd carel-jupyter"
      ],
      "execution_count": 332,
      "outputs": [
        {
          "output_type": "stream",
          "text": [
            "/content\n",
            "/content/carel-jupyter\n"
          ],
          "name": "stdout"
        }
      ]
    },
    {
      "metadata": {
        "id": "e0l5Sh7jg4LF",
        "colab_type": "code",
        "outputId": "df865e10-07f7-4b41-bec0-e8528df10633",
        "colab": {
          "base_uri": "https://localhost:8080/",
          "height": 88
        }
      },
      "cell_type": "code",
      "source": [
        "from carel import Carel\n",
        "from carelgrid import CarelGrid\n",
        "from gamecanvas import GameCanvas\n",
        "\n",
        "field = [[0 for x in range(6)] for y in range(4)]\n",
        "\n",
        "field[0][1] = 1\n",
        "field[1][0] = 2\n",
        "field[3][2] = 1\n",
        "\n",
        "grid = CarelGrid(field)\n",
        "canvas = GameCanvas(speed=1);\n",
        "carel = Carel(canvas, grid);\n",
        "\n",
        "def move():\n",
        "    carel.move()\n",
        "def turn_left():\n",
        "    carel.turn_left()\n",
        "def drop_beeper():\n",
        "    carel.drop_beeper()\n",
        "def collect_beeper():\n",
        "    carel.collect_beeper()\n",
        "def is_beeper():\n",
        "    return carel.is_beeper()\n",
        "def is_front_clear():\n",
        "    return carel.is_front_clear()\n",
        "def show():\n",
        "    carel.show()"
      ],
      "execution_count": 436,
      "outputs": [
        {
          "output_type": "stream",
          "text": [
            "',(0):>   1      0      0      0      0   \n",
            "   2      0      0      0      0      0   \n",
            "   0      0      0      0      0      0   \n",
            "   0      0      1      0      0      0   \n"
          ],
          "name": "stdout"
        }
      ]
    },
    {
      "metadata": {
        "id": "twV-io0KhNgd",
        "colab_type": "code",
        "colab": {}
      },
      "cell_type": "code",
      "source": [
        "# New methods go here\n",
        "\n",
        "# Example\n",
        "\n",
        "def turn_around():\n",
        "    for x in range(2):\n",
        "        turn_left()\n",
        "def turn_right ():\n",
        "    for i in range (3):\n",
        "        turn_left()\n",
        "        \n",
        "def multi_move(n):\n",
        "    for i in range(n):\n",
        "         move()\n",
        "        \n",
        "        \n",
        "def  collect_all_beepers():\n",
        "    while(is_beeper()):\n",
        "        collect_beeper()\n",
        "      \n",
        "    \n",
        "def collect_one_beeper():\n",
        "    if is_beeper():\n",
        "        collect_beeper()\n",
        "        \n",
        "        \n",
        "def collect_or_drop_beeper():\n",
        "    if is_beeper():\n",
        "        collect_beeper()\n",
        "    else:\n",
        "        drop_beeper()\n",
        "        \n",
        "def leave_one_beeper():\n",
        "    collect_all_beepers()\n",
        "    drop_beeper()\n",
        "\n",
        "def leave_two_beepers():\n",
        "    collect_all_beepers()\n",
        "    drop_beeper()\n",
        "    drop_beeper()\n",
        "        \n",
        "        \n",
        "def ones_to_wall():\n",
        "    while(True):\n",
        "        leave_one_beeper()\n",
        "        if is_front_clear:\n",
        "                move()\n",
        "        else:\n",
        "            break\n",
        "\n",
        "def doubles_to_wall():\n",
        "    while (True):\n",
        "        leave_two_beepers()\n",
        "        if is_front_clear:\n",
        "            move()\n",
        "        else:\n",
        "            break\n",
        "\n",
        "            \n",
        "#      def leave_one_beeper():\n",
        "#         collect()all_beeper()\n",
        "#         drop_beeper()\n",
        "          \n",
        "#1 обнулить по периметру  \n",
        "\n",
        "def clear_to_wall():\n",
        "    while(True):\n",
        "        collect_all_beepers()\n",
        "        if is_front_clear ():\n",
        "            move()\n",
        "        else: \n",
        "            break\n",
        "'''\n",
        "def clear_to_wall():\n",
        "    while(is_front_clear()):\n",
        "        collect_all_beepers()\n",
        "        move()\n",
        "'''\n",
        "\n",
        "#2 5 по периметру          \n",
        "def fill_perimeter (n):\n",
        "    while (True):\n",
        "        move()\n",
        "        collect_all_beepers()\n",
        "        for i in range(n):\n",
        "             drop_beeper()\n",
        "        \n",
        "        \n",
        "                   \n",
        "def fill_to_wall(num):\n",
        "    while(is_front_clear()):\n",
        "                    collect_all_beepers()\n",
        "                    for i in range(num):\n",
        "                        drop_beeper()\n",
        "                    move()\n",
        "\n",
        "def fill_perimeter_2 (num):\n",
        "    for i in range (4):\n",
        "                   fill_to_wall(num)\n",
        "    turn_right()\n",
        "\n",
        "\n",
        "def count_to_wall():\n",
        "    shagi = 0\n",
        "    while (is_front_clear()):\n",
        "        shagi=shagi+1\n",
        "        move()\n",
        "    return shagi\n",
        "'''    \n",
        "    while (True):\n",
        "      \n",
        "        if is_front_clear():\n",
        "            shagi = shagi +1    \n",
        "           move ()\n",
        "        else:\n",
        "            break\n",
        "    \n",
        "'''    \n",
        "    \n",
        "        \n",
        "    \n",
        "def multi_drop(x):\n",
        "    for i in range(x):\n",
        "        drop_beeper()\n",
        "\n",
        "        \n",
        "        \n",
        "        \n",
        "#1. очистить все поле\n"
      ],
      "execution_count": 0,
      "outputs": []
    },
    {
      "metadata": {
        "id": "p2v8-7EessZi",
        "colab_type": "code",
        "colab": {
          "base_uri": "https://localhost:8080/",
          "height": 35
        },
        "outputId": "9e6a52be-66d3-482d-bbe7-2350c2c004c6"
      },
      "cell_type": "code",
      "source": [
        "a =10\n",
        "b=6\n",
        "\n",
        "def minus(first,second):\n",
        "    diff=first-second\n",
        "    return diff\n",
        "\n",
        "print(minus(a,b))"
      ],
      "execution_count": 276,
      "outputs": [
        {
          "output_type": "stream",
          "text": [
            "4\n"
          ],
          "name": "stdout"
        }
      ]
    },
    {
      "metadata": {
        "id": "Zg0NGn1T6NZV",
        "colab_type": "code",
        "colab": {
          "base_uri": "https://localhost:8080/",
          "height": 88
        },
        "outputId": "b5e80919-e76e-4708-9631-6938dd955f5e"
      },
      "cell_type": "code",
      "source": [
        "#1. очистить все поле\n",
        "\n",
        "#двигаться змейкой\n",
        "\n",
        "while (True):\n",
        "    clear_to_wall()\n",
        "    turn_right()\n",
        "    if is_front_clear():\n",
        "        move()\n",
        "    else :\n",
        "        break  \n",
        "    turn_right()\n",
        "    clear_to_wall()\n",
        "    turn_left()\n",
        "    if is_front_clear():    \n",
        "        move()\n",
        "        turn_left()\n",
        "    else:\n",
        "        break\n",
        "#    turn_left()\n",
        "   \n",
        "    #turn_right()\n",
        "    #move()\n",
        "    #turn_right()\n",
        "    #move_to_wall()\n",
        "    #turn_left()\n",
        "    \n",
        "    #move to wall > turn left\n",
        "\n",
        "\n",
        "\n",
        "#3. заполнить поле любым числом по параметру\n",
        "#4. заполнить поле единицами в шахматном порядке\n",
        "#5. Создать метоод transport_beepers(n), в результате которого биперы перетаскиваются на n клеток"
      ],
      "execution_count": 418,
      "outputs": [
        {
          "output_type": "stream",
          "text": [
            "   0      0      0      0      0      0   \n",
            "   0      0      0      0      0      0   \n",
            "   0      0      0      0      0      0   \n",
            "',(0):v   0      0      0      0      0   \n"
          ],
          "name": "stdout"
        }
      ]
    },
    {
      "metadata": {
        "id": "1_s8W3ZwOtiC",
        "colab_type": "code",
        "colab": {
          "base_uri": "https://localhost:8080/",
          "height": 1004
        },
        "outputId": "6116d4f0-9a22-4b96-9f05-f96e2d0bd382"
      },
      "cell_type": "code",
      "source": [
        "show()\n",
        "doubles_to_wall()"
      ],
      "execution_count": 433,
      "outputs": [
        {
          "output_type": "stream",
          "text": [
            "   2      2      2      2      2   ',(2)%>\n",
            "   2      0      0      0      0      0   \n",
            "   0      0      0      0      0      0   \n",
            "   0      0      1      0      0      0   \n"
          ],
          "name": "stdout"
        },
        {
          "output_type": "error",
          "ename": "IndexError",
          "evalue": "ignored",
          "traceback": [
            "\u001b[0;31m---------------------------------------------------------------------------\u001b[0m",
            "\u001b[0;31mIndexError\u001b[0m                                Traceback (most recent call last)",
            "\u001b[0;32m<ipython-input-433-372fba6c5fff>\u001b[0m in \u001b[0;36m<module>\u001b[0;34m()\u001b[0m\n\u001b[1;32m      1\u001b[0m \u001b[0mshow\u001b[0m\u001b[0;34m(\u001b[0m\u001b[0;34m)\u001b[0m\u001b[0;34m\u001b[0m\u001b[0;34m\u001b[0m\u001b[0m\n\u001b[0;32m----> 2\u001b[0;31m \u001b[0mdoubles_to_wall\u001b[0m\u001b[0;34m(\u001b[0m\u001b[0;34m)\u001b[0m\u001b[0;34m\u001b[0m\u001b[0;34m\u001b[0m\u001b[0m\n\u001b[0m",
            "\u001b[0;32m<ipython-input-432-303cb6b5e81e>\u001b[0m in \u001b[0;36mdoubles_to_wall\u001b[0;34m()\u001b[0m\n\u001b[1;32m     48\u001b[0m \u001b[0;32mdef\u001b[0m \u001b[0mdoubles_to_wall\u001b[0m\u001b[0;34m(\u001b[0m\u001b[0;34m)\u001b[0m\u001b[0;34m:\u001b[0m\u001b[0;34m\u001b[0m\u001b[0;34m\u001b[0m\u001b[0m\n\u001b[1;32m     49\u001b[0m     \u001b[0;32mwhile\u001b[0m \u001b[0;34m(\u001b[0m\u001b[0;32mTrue\u001b[0m\u001b[0;34m)\u001b[0m\u001b[0;34m:\u001b[0m\u001b[0;34m\u001b[0m\u001b[0;34m\u001b[0m\u001b[0m\n\u001b[0;32m---> 50\u001b[0;31m         \u001b[0mleave_two_beepers\u001b[0m\u001b[0;34m(\u001b[0m\u001b[0;34m)\u001b[0m\u001b[0;34m\u001b[0m\u001b[0;34m\u001b[0m\u001b[0m\n\u001b[0m\u001b[1;32m     51\u001b[0m         \u001b[0;32mif\u001b[0m \u001b[0mis_front_clear\u001b[0m\u001b[0;34m:\u001b[0m\u001b[0;34m\u001b[0m\u001b[0;34m\u001b[0m\u001b[0m\n\u001b[1;32m     52\u001b[0m             \u001b[0mmove\u001b[0m\u001b[0;34m(\u001b[0m\u001b[0;34m)\u001b[0m\u001b[0;34m\u001b[0m\u001b[0;34m\u001b[0m\u001b[0m\n",
            "\u001b[0;32m<ipython-input-432-303cb6b5e81e>\u001b[0m in \u001b[0;36mleave_two_beepers\u001b[0;34m()\u001b[0m\n\u001b[1;32m     33\u001b[0m \u001b[0;34m\u001b[0m\u001b[0m\n\u001b[1;32m     34\u001b[0m \u001b[0;32mdef\u001b[0m \u001b[0mleave_two_beepers\u001b[0m\u001b[0;34m(\u001b[0m\u001b[0;34m)\u001b[0m\u001b[0;34m:\u001b[0m\u001b[0;34m\u001b[0m\u001b[0;34m\u001b[0m\u001b[0m\n\u001b[0;32m---> 35\u001b[0;31m     \u001b[0mcollect_all_beepers\u001b[0m\u001b[0;34m(\u001b[0m\u001b[0;34m)\u001b[0m\u001b[0;34m\u001b[0m\u001b[0;34m\u001b[0m\u001b[0m\n\u001b[0m\u001b[1;32m     36\u001b[0m     \u001b[0mdrop_beeper\u001b[0m\u001b[0;34m(\u001b[0m\u001b[0;34m)\u001b[0m\u001b[0;34m\u001b[0m\u001b[0;34m\u001b[0m\u001b[0m\n\u001b[1;32m     37\u001b[0m     \u001b[0mdrop_beeper\u001b[0m\u001b[0;34m(\u001b[0m\u001b[0;34m)\u001b[0m\u001b[0;34m\u001b[0m\u001b[0;34m\u001b[0m\u001b[0m\n",
            "\u001b[0;32m<ipython-input-432-303cb6b5e81e>\u001b[0m in \u001b[0;36mcollect_all_beepers\u001b[0;34m()\u001b[0m\n\u001b[1;32m     13\u001b[0m \u001b[0;34m\u001b[0m\u001b[0m\n\u001b[1;32m     14\u001b[0m \u001b[0;32mdef\u001b[0m  \u001b[0mcollect_all_beepers\u001b[0m\u001b[0;34m(\u001b[0m\u001b[0;34m)\u001b[0m\u001b[0;34m:\u001b[0m\u001b[0;34m\u001b[0m\u001b[0;34m\u001b[0m\u001b[0m\n\u001b[0;32m---> 15\u001b[0;31m     \u001b[0;32mwhile\u001b[0m\u001b[0;34m(\u001b[0m\u001b[0mis_beeper\u001b[0m\u001b[0;34m(\u001b[0m\u001b[0;34m)\u001b[0m\u001b[0;34m)\u001b[0m\u001b[0;34m:\u001b[0m\u001b[0;34m\u001b[0m\u001b[0;34m\u001b[0m\u001b[0m\n\u001b[0m\u001b[1;32m     16\u001b[0m         \u001b[0mcollect_beeper\u001b[0m\u001b[0;34m(\u001b[0m\u001b[0;34m)\u001b[0m\u001b[0;34m\u001b[0m\u001b[0;34m\u001b[0m\u001b[0m\n\u001b[1;32m     17\u001b[0m \u001b[0;34m\u001b[0m\u001b[0m\n",
            "\u001b[0;32m<ipython-input-431-6095c2264223>\u001b[0m in \u001b[0;36mis_beeper\u001b[0;34m()\u001b[0m\n\u001b[1;32m     22\u001b[0m     \u001b[0mcarel\u001b[0m\u001b[0;34m.\u001b[0m\u001b[0mcollect_beeper\u001b[0m\u001b[0;34m(\u001b[0m\u001b[0;34m)\u001b[0m\u001b[0;34m\u001b[0m\u001b[0;34m\u001b[0m\u001b[0m\n\u001b[1;32m     23\u001b[0m \u001b[0;32mdef\u001b[0m \u001b[0mis_beeper\u001b[0m\u001b[0;34m(\u001b[0m\u001b[0;34m)\u001b[0m\u001b[0;34m:\u001b[0m\u001b[0;34m\u001b[0m\u001b[0;34m\u001b[0m\u001b[0m\n\u001b[0;32m---> 24\u001b[0;31m     \u001b[0;32mreturn\u001b[0m \u001b[0mcarel\u001b[0m\u001b[0;34m.\u001b[0m\u001b[0mis_beeper\u001b[0m\u001b[0;34m(\u001b[0m\u001b[0;34m)\u001b[0m\u001b[0;34m\u001b[0m\u001b[0;34m\u001b[0m\u001b[0m\n\u001b[0m\u001b[1;32m     25\u001b[0m \u001b[0;32mdef\u001b[0m \u001b[0mis_front_clear\u001b[0m\u001b[0;34m(\u001b[0m\u001b[0;34m)\u001b[0m\u001b[0;34m:\u001b[0m\u001b[0;34m\u001b[0m\u001b[0;34m\u001b[0m\u001b[0m\n\u001b[1;32m     26\u001b[0m     \u001b[0;32mreturn\u001b[0m \u001b[0mcarel\u001b[0m\u001b[0;34m.\u001b[0m\u001b[0mis_front_clear\u001b[0m\u001b[0;34m(\u001b[0m\u001b[0;34m)\u001b[0m\u001b[0;34m\u001b[0m\u001b[0;34m\u001b[0m\u001b[0m\n",
            "\u001b[0;32m/content/carel-jupyter/carel.py\u001b[0m in \u001b[0;36mis_beeper\u001b[0;34m(self)\u001b[0m\n\u001b[1;32m     51\u001b[0m \u001b[0;34m\u001b[0m\u001b[0m\n\u001b[1;32m     52\u001b[0m     \u001b[0;32mdef\u001b[0m \u001b[0mis_beeper\u001b[0m\u001b[0;34m(\u001b[0m\u001b[0mself\u001b[0m\u001b[0;34m)\u001b[0m\u001b[0;34m:\u001b[0m\u001b[0;34m\u001b[0m\u001b[0;34m\u001b[0m\u001b[0m\n\u001b[0;32m---> 53\u001b[0;31m         \u001b[0;32mif\u001b[0m \u001b[0mself\u001b[0m\u001b[0;34m.\u001b[0m\u001b[0mgrid\u001b[0m\u001b[0;34m.\u001b[0m\u001b[0mis_beeper\u001b[0m\u001b[0;34m(\u001b[0m\u001b[0mself\u001b[0m\u001b[0;34m.\u001b[0m\u001b[0mx\u001b[0m\u001b[0;34m,\u001b[0m \u001b[0mself\u001b[0m\u001b[0;34m.\u001b[0m\u001b[0my\u001b[0m\u001b[0;34m)\u001b[0m\u001b[0;34m:\u001b[0m\u001b[0;34m\u001b[0m\u001b[0;34m\u001b[0m\u001b[0m\n\u001b[0m\u001b[1;32m     54\u001b[0m             \u001b[0;32mreturn\u001b[0m \u001b[0;32mTrue\u001b[0m\u001b[0;34m\u001b[0m\u001b[0;34m\u001b[0m\u001b[0m\n\u001b[1;32m     55\u001b[0m         \u001b[0;32melse\u001b[0m\u001b[0;34m:\u001b[0m\u001b[0;34m\u001b[0m\u001b[0;34m\u001b[0m\u001b[0m\n",
            "\u001b[0;32m/content/carel-jupyter/carelgrid.py\u001b[0m in \u001b[0;36mis_beeper\u001b[0;34m(self, x, y)\u001b[0m\n\u001b[1;32m     62\u001b[0m \u001b[0;34m\u001b[0m\u001b[0m\n\u001b[1;32m     63\u001b[0m     \u001b[0;32mdef\u001b[0m \u001b[0mis_beeper\u001b[0m\u001b[0;34m(\u001b[0m\u001b[0mself\u001b[0m\u001b[0;34m,\u001b[0m \u001b[0mx\u001b[0m\u001b[0;34m,\u001b[0m \u001b[0my\u001b[0m\u001b[0;34m)\u001b[0m\u001b[0;34m:\u001b[0m\u001b[0;34m\u001b[0m\u001b[0;34m\u001b[0m\u001b[0m\n\u001b[0;32m---> 64\u001b[0;31m         \u001b[0;32mif\u001b[0m \u001b[0;34m(\u001b[0m\u001b[0mself\u001b[0m\u001b[0;34m.\u001b[0m\u001b[0mmap\u001b[0m\u001b[0;34m[\u001b[0m\u001b[0my\u001b[0m\u001b[0;34m]\u001b[0m\u001b[0;34m[\u001b[0m\u001b[0mx\u001b[0m\u001b[0;34m]\u001b[0m \u001b[0;34m<=\u001b[0m \u001b[0;36m0\u001b[0m\u001b[0;34m)\u001b[0m\u001b[0;34m:\u001b[0m\u001b[0;34m\u001b[0m\u001b[0;34m\u001b[0m\u001b[0m\n\u001b[0m\u001b[1;32m     65\u001b[0m             \u001b[0;32mreturn\u001b[0m \u001b[0;32mFalse\u001b[0m\u001b[0;34m\u001b[0m\u001b[0;34m\u001b[0m\u001b[0m\n\u001b[1;32m     66\u001b[0m         \u001b[0;32melse\u001b[0m\u001b[0;34m:\u001b[0m\u001b[0;34m\u001b[0m\u001b[0;34m\u001b[0m\u001b[0m\n",
            "\u001b[0;31mIndexError\u001b[0m: list index out of range"
          ]
        }
      ]
    },
    {
      "metadata": {
        "id": "Dox2CdXlLCOK",
        "colab_type": "code",
        "colab": {
          "base_uri": "https://localhost:8080/",
          "height": 132
        },
        "outputId": "06dffdf5-e661-42d2-ca0c-4162c9c7c2d3"
      },
      "cell_type": "code",
      "source": [
        "#2. заполнить поле  2ками\n",
        "\n",
        "\n",
        "while (True):\n",
        "    doubles_to_wall()\n",
        "    turn_right()\n",
        "    if is_front_clear():\n",
        "        move()\n",
        "    else :\n",
        "        break  \n",
        "    turn_right()\n",
        "    doubles_to_wall()\n",
        "    turn_left()\n",
        "    if is_front_clear():    \n",
        "        move()\n",
        "    turn_left()\n",
        "    else:\n",
        "        break\n"
      ],
      "execution_count": 429,
      "outputs": [
        {
          "output_type": "error",
          "ename": "SyntaxError",
          "evalue": "ignored",
          "traceback": [
            "\u001b[0;36m  File \u001b[0;32m\"<ipython-input-429-969bbc4353b4>\"\u001b[0;36m, line \u001b[0;32m16\u001b[0m\n\u001b[0;31m    else:\u001b[0m\n\u001b[0m       ^\u001b[0m\n\u001b[0;31mSyntaxError\u001b[0m\u001b[0;31m:\u001b[0m invalid syntax\n"
          ]
        }
      ]
    },
    {
      "metadata": {
        "id": "vjLseudcMZlt",
        "colab_type": "code",
        "colab": {}
      },
      "cell_type": "code",
      "source": [
        ""
      ],
      "execution_count": 0,
      "outputs": []
    },
    {
      "metadata": {
        "id": "frTuJYuRMb-I",
        "colab_type": "code",
        "colab": {}
      },
      "cell_type": "code",
      "source": [
        ""
      ],
      "execution_count": 0,
      "outputs": []
    },
    {
      "metadata": {
        "id": "gLFbrRSYt2GJ",
        "colab_type": "code",
        "colab": {
          "base_uri": "https://localhost:8080/",
          "height": 88
        },
        "outputId": "4e8d1c25-8729-4308-f231-9a10acd3aee9"
      },
      "cell_type": "code",
      "source": [
        "#count steps\n",
        "\n",
        "steps = count_to_wall()\n",
        "collect_all_beepers()\n",
        "multi_drop(steps)\n",
        "\n",
        "\n",
        "#print(steps())"
      ],
      "execution_count": 438,
      "outputs": [
        {
          "output_type": "stream",
          "text": [
            "   0      1      0      0      0   ',(5):>\n",
            "   2      0      0      0      0      0   \n",
            "   0      0      0      0      0      0   \n",
            "   0      0      1      0      0      0   \n"
          ],
          "name": "stdout"
        }
      ]
    },
    {
      "metadata": {
        "id": "PuKSErOaiEEd",
        "colab_type": "code",
        "outputId": "e5595523-6548-4f4f-a8cd-ccb36405efa0",
        "colab": {
          "base_uri": "https://localhost:8080/",
          "height": 88
        }
      },
      "cell_type": "code",
      "source": [
        "\n",
        "# perimeter\n",
        "#исправить баги\n",
        "show()\n",
        "\n",
        "for i in range(4):\n",
        "    fill_perimeter_2(3)\n",
        "  \n",
        "\n",
        "\n"
      ],
      "execution_count": 252,
      "outputs": [
        {
          "output_type": "stream",
          "text": [
            "',(3):>   3      3      3      3      3   \n",
            "   3      0      0      0      0      3   \n",
            "   3      0      0      0      0      3   \n",
            "   3      3      3      3      3      3   \n"
          ],
          "name": "stdout"
        }
      ]
    },
    {
      "metadata": {
        "id": "AEYMXm0tiLw-",
        "colab_type": "code",
        "colab": {
          "base_uri": "https://localhost:8080/",
          "height": 88
        },
        "outputId": "db20628c-83b2-4ae1-e535-490846bc7667"
      },
      "cell_type": "code",
      "source": [
        "# collect all beepers\n",
        "show()\n",
        "turn_right()\n",
        "move()\n",
        "collect_all_beepers()\n",
        "\n",
        "\n",
        "\n",
        "\n",
        "  \n"
      ],
      "execution_count": 200,
      "outputs": [
        {
          "output_type": "stream",
          "text": [
            "   0      0      0      0      0      0   \n",
            "',(0):v   0      0      0      0      0   \n",
            "   0      0      0      0      0      0   \n",
            "   0      0      0      0      0      0   \n"
          ],
          "name": "stdout"
        }
      ]
    },
    {
      "metadata": {
        "id": "XshwYq7jsXJ5",
        "colab_type": "code",
        "colab": {
          "base_uri": "https://localhost:8080/",
          "height": 88
        },
        "outputId": "4622cea4-ffb2-48ae-d0ec-3c42782ec66a"
      },
      "cell_type": "code",
      "source": [
        "#collect one beeper\n",
        "\n",
        "show()\n",
        "\n",
        "turn_right()\n",
        "move()\n",
        "collect_one_beeper()\n"
      ],
      "execution_count": 163,
      "outputs": [
        {
          "output_type": "stream",
          "text": [
            "   0      1      0      0      0      0   \n",
            "',(1):v   0      0      0      0      0   \n",
            "   0      0      0      0      0      0   \n",
            "   0      0      1      0      0      0   \n"
          ],
          "name": "stdout"
        }
      ]
    },
    {
      "metadata": {
        "id": "hFxLlCW6s2Rp",
        "colab_type": "code",
        "colab": {
          "base_uri": "https://localhost:8080/",
          "height": 88
        },
        "outputId": "5c700c7f-65da-4836-c806-63659cf24cf0"
      },
      "cell_type": "code",
      "source": [
        "show()\n",
        "\n",
        "#make ones in perimeter\n",
        "for i in range(4):\n",
        "    ones_to_wall()\n",
        "    turn_right()\n",
        "\n"
      ],
      "execution_count": 181,
      "outputs": [
        {
          "output_type": "stream",
          "text": [
            "',(1):>   1      1      1      1      1   \n",
            "   1      0      0      0      0      1   \n",
            "   1      0      0      0      0      1   \n",
            "   1      1      1      1      1      1   \n"
          ],
          "name": "stdout"
        }
      ]
    },
    {
      "metadata": {
        "id": "CapqBRTbs5FW",
        "colab_type": "code",
        "colab": {
          "base_uri": "https://localhost:8080/",
          "height": 915
        },
        "outputId": "976ccc9a-75e8-4ffc-d2cd-039408ba9cff"
      },
      "cell_type": "code",
      "source": [
        "#make zeros on the perimeter\n",
        "show()\n",
        "for i in range(4):\n",
        "    clear_to_wall()\n",
        "    turn_right()\n",
        "  "
      ],
      "execution_count": 391,
      "outputs": [
        {
          "output_type": "stream",
          "text": [
            "   0      0      0      0      0      0   \n",
            "   2      0      0      0      0      0   \n",
            "   0      0      0      0      0      0   \n",
            "   0      0      1      0      0   ',(0):<\n"
          ],
          "name": "stdout"
        },
        {
          "output_type": "error",
          "ename": "KeyboardInterrupt",
          "evalue": "ignored",
          "traceback": [
            "\u001b[0;31m---------------------------------------------------------------------------\u001b[0m",
            "\u001b[0;31mKeyboardInterrupt\u001b[0m                         Traceback (most recent call last)",
            "\u001b[0;32m<ipython-input-391-fef1bcb77817>\u001b[0m in \u001b[0;36m<module>\u001b[0;34m()\u001b[0m\n\u001b[1;32m      2\u001b[0m \u001b[0;32mfor\u001b[0m \u001b[0mi\u001b[0m \u001b[0;32min\u001b[0m \u001b[0mrange\u001b[0m\u001b[0;34m(\u001b[0m\u001b[0;36m4\u001b[0m\u001b[0;34m)\u001b[0m\u001b[0;34m:\u001b[0m\u001b[0;34m\u001b[0m\u001b[0;34m\u001b[0m\u001b[0m\n\u001b[1;32m      3\u001b[0m     \u001b[0mclear_to_wall\u001b[0m\u001b[0;34m(\u001b[0m\u001b[0;34m)\u001b[0m\u001b[0;34m\u001b[0m\u001b[0;34m\u001b[0m\u001b[0m\n\u001b[0;32m----> 4\u001b[0;31m     \u001b[0mturn_right\u001b[0m\u001b[0;34m(\u001b[0m\u001b[0;34m)\u001b[0m\u001b[0;34m\u001b[0m\u001b[0;34m\u001b[0m\u001b[0m\n\u001b[0m\u001b[1;32m      5\u001b[0m \u001b[0;34m\u001b[0m\u001b[0m\n",
            "\u001b[0;32m<ipython-input-390-4aaaa66f4fd9>\u001b[0m in \u001b[0;36mturn_right\u001b[0;34m()\u001b[0m\n\u001b[1;32m      5\u001b[0m \u001b[0;32mdef\u001b[0m \u001b[0mturn_right\u001b[0m \u001b[0;34m(\u001b[0m\u001b[0;34m)\u001b[0m\u001b[0;34m:\u001b[0m\u001b[0;34m\u001b[0m\u001b[0;34m\u001b[0m\u001b[0m\n\u001b[1;32m      6\u001b[0m     \u001b[0;32mfor\u001b[0m \u001b[0mi\u001b[0m \u001b[0;32min\u001b[0m \u001b[0mrange\u001b[0m \u001b[0;34m(\u001b[0m\u001b[0;36m3\u001b[0m\u001b[0;34m)\u001b[0m\u001b[0;34m:\u001b[0m\u001b[0;34m\u001b[0m\u001b[0;34m\u001b[0m\u001b[0m\n\u001b[0;32m----> 7\u001b[0;31m         \u001b[0mturn_left\u001b[0m\u001b[0;34m(\u001b[0m\u001b[0;34m)\u001b[0m\u001b[0;34m\u001b[0m\u001b[0;34m\u001b[0m\u001b[0m\n\u001b[0m\u001b[1;32m      8\u001b[0m \u001b[0;34m\u001b[0m\u001b[0m\n\u001b[1;32m      9\u001b[0m \u001b[0;32mdef\u001b[0m \u001b[0mmulti_move\u001b[0m\u001b[0;34m(\u001b[0m\u001b[0mn\u001b[0m\u001b[0;34m)\u001b[0m\u001b[0;34m:\u001b[0m\u001b[0;34m\u001b[0m\u001b[0;34m\u001b[0m\u001b[0m\n",
            "\u001b[0;32m<ipython-input-389-6095c2264223>\u001b[0m in \u001b[0;36mturn_left\u001b[0;34m()\u001b[0m\n\u001b[1;32m     16\u001b[0m     \u001b[0mcarel\u001b[0m\u001b[0;34m.\u001b[0m\u001b[0mmove\u001b[0m\u001b[0;34m(\u001b[0m\u001b[0;34m)\u001b[0m\u001b[0;34m\u001b[0m\u001b[0;34m\u001b[0m\u001b[0m\n\u001b[1;32m     17\u001b[0m \u001b[0;32mdef\u001b[0m \u001b[0mturn_left\u001b[0m\u001b[0;34m(\u001b[0m\u001b[0;34m)\u001b[0m\u001b[0;34m:\u001b[0m\u001b[0;34m\u001b[0m\u001b[0;34m\u001b[0m\u001b[0m\n\u001b[0;32m---> 18\u001b[0;31m     \u001b[0mcarel\u001b[0m\u001b[0;34m.\u001b[0m\u001b[0mturn_left\u001b[0m\u001b[0;34m(\u001b[0m\u001b[0;34m)\u001b[0m\u001b[0;34m\u001b[0m\u001b[0;34m\u001b[0m\u001b[0m\n\u001b[0m\u001b[1;32m     19\u001b[0m \u001b[0;32mdef\u001b[0m \u001b[0mdrop_beeper\u001b[0m\u001b[0;34m(\u001b[0m\u001b[0;34m)\u001b[0m\u001b[0;34m:\u001b[0m\u001b[0;34m\u001b[0m\u001b[0;34m\u001b[0m\u001b[0m\n\u001b[1;32m     20\u001b[0m     \u001b[0mcarel\u001b[0m\u001b[0;34m.\u001b[0m\u001b[0mdrop_beeper\u001b[0m\u001b[0;34m(\u001b[0m\u001b[0;34m)\u001b[0m\u001b[0;34m\u001b[0m\u001b[0;34m\u001b[0m\u001b[0m\n",
            "\u001b[0;32m/content/carel-jupyter/carel.py\u001b[0m in \u001b[0;36mturn_left\u001b[0;34m(self)\u001b[0m\n\u001b[1;32m     31\u001b[0m             \u001b[0mself\u001b[0m\u001b[0;34m.\u001b[0m\u001b[0mdirection_x\u001b[0m \u001b[0;34m=\u001b[0m \u001b[0;36m0\u001b[0m\u001b[0;34m\u001b[0m\u001b[0;34m\u001b[0m\u001b[0m\n\u001b[1;32m     32\u001b[0m \u001b[0;34m\u001b[0m\u001b[0m\n\u001b[0;32m---> 33\u001b[0;31m         \u001b[0mself\u001b[0m\u001b[0;34m.\u001b[0m\u001b[0mupdate\u001b[0m\u001b[0;34m(\u001b[0m\u001b[0;34m)\u001b[0m\u001b[0;34m\u001b[0m\u001b[0;34m\u001b[0m\u001b[0m\n\u001b[0m\u001b[1;32m     34\u001b[0m \u001b[0;34m\u001b[0m\u001b[0m\n\u001b[1;32m     35\u001b[0m \u001b[0;34m\u001b[0m\u001b[0m\n",
            "\u001b[0;32m/content/carel-jupyter/carel.py\u001b[0m in \u001b[0;36mupdate\u001b[0;34m(self)\u001b[0m\n\u001b[1;32m     74\u001b[0m             \u001b[0mself\u001b[0m\u001b[0;34m.\u001b[0m\u001b[0mgrid\u001b[0m\u001b[0;34m.\u001b[0m\u001b[0mset_carel_direction_x\u001b[0m\u001b[0;34m(\u001b[0m\u001b[0mself\u001b[0m\u001b[0;34m.\u001b[0m\u001b[0mdirection_x\u001b[0m\u001b[0;34m)\u001b[0m\u001b[0;34m\u001b[0m\u001b[0;34m\u001b[0m\u001b[0m\n\u001b[1;32m     75\u001b[0m             \u001b[0mself\u001b[0m\u001b[0;34m.\u001b[0m\u001b[0mgrid\u001b[0m\u001b[0;34m.\u001b[0m\u001b[0mset_carel_direction_y\u001b[0m\u001b[0;34m(\u001b[0m\u001b[0mself\u001b[0m\u001b[0;34m.\u001b[0m\u001b[0mdirection_y\u001b[0m\u001b[0;34m)\u001b[0m\u001b[0;34m\u001b[0m\u001b[0;34m\u001b[0m\u001b[0m\n\u001b[0;32m---> 76\u001b[0;31m         \u001b[0mself\u001b[0m\u001b[0;34m.\u001b[0m\u001b[0mgame\u001b[0m\u001b[0;34m.\u001b[0m\u001b[0mdraw\u001b[0m\u001b[0;34m(\u001b[0m\u001b[0mself\u001b[0m\u001b[0;34m.\u001b[0m\u001b[0mgrid\u001b[0m\u001b[0;34m)\u001b[0m\u001b[0;34m\u001b[0m\u001b[0;34m\u001b[0m\u001b[0m\n\u001b[0m\u001b[1;32m     77\u001b[0m \u001b[0;34m\u001b[0m\u001b[0m\n\u001b[1;32m     78\u001b[0m \u001b[0;34m\u001b[0m\u001b[0m\n",
            "\u001b[0;32m/content/carel-jupyter/gamecanvas.py\u001b[0m in \u001b[0;36mdraw\u001b[0;34m(self, grid)\u001b[0m\n\u001b[1;32m     15\u001b[0m                 \u001b[0mprint\u001b[0m\u001b[0;34m(\u001b[0m\u001b[0melement\u001b[0m\u001b[0;34m,\u001b[0m \u001b[0mend\u001b[0m\u001b[0;34m=\u001b[0m\u001b[0;34m''\u001b[0m\u001b[0;34m)\u001b[0m\u001b[0;34m\u001b[0m\u001b[0;34m\u001b[0m\u001b[0m\n\u001b[1;32m     16\u001b[0m             \u001b[0mprint\u001b[0m\u001b[0;34m(\u001b[0m\u001b[0;34m''\u001b[0m\u001b[0;34m)\u001b[0m\u001b[0;34m\u001b[0m\u001b[0;34m\u001b[0m\u001b[0m\n\u001b[0;32m---> 17\u001b[0;31m         \u001b[0mtime\u001b[0m\u001b[0;34m.\u001b[0m\u001b[0msleep\u001b[0m\u001b[0;34m(\u001b[0m\u001b[0;36m1\u001b[0m\u001b[0;34m/\u001b[0m\u001b[0mself\u001b[0m\u001b[0;34m.\u001b[0m\u001b[0mspeed\u001b[0m\u001b[0;34m)\u001b[0m\u001b[0;34m\u001b[0m\u001b[0;34m\u001b[0m\u001b[0m\n\u001b[0m\u001b[1;32m     18\u001b[0m \u001b[0;34m\u001b[0m\u001b[0m\n\u001b[1;32m     19\u001b[0m \u001b[0;34m\u001b[0m\u001b[0m\n",
            "\u001b[0;31mKeyboardInterrupt\u001b[0m: "
          ]
        }
      ]
    },
    {
      "metadata": {
        "id": "3KoQs9ttvHu5",
        "colab_type": "code",
        "colab": {
          "base_uri": "https://localhost:8080/",
          "height": 88
        },
        "outputId": "0ed28757-47c2-4a7c-a142-3acec4988278"
      },
      "cell_type": "code",
      "source": [
        "print()\n",
        "for i in range(4):\n",
        "    fill_perimeter(5)\n",
        "    turn_right()"
      ],
      "execution_count": 209,
      "outputs": [
        {
          "output_type": "stream",
          "text": [
            "',(5):>   5      5      5      5      5   \n",
            "   5      0      0      0      0      5   \n",
            "   5      0      0      0      0      5   \n",
            "   5      5      5      5      5      5   \n"
          ],
          "name": "stdout"
        }
      ]
    },
    {
      "metadata": {
        "id": "s1bilnODvZoE",
        "colab_type": "code",
        "colab": {}
      },
      "cell_type": "code",
      "source": [
        "# count number of steps\n",
        "\n"
      ],
      "execution_count": 0,
      "outputs": []
    },
    {
      "metadata": {
        "id": "CE3aJ-tdvhiy",
        "colab_type": "code",
        "colab": {}
      },
      "cell_type": "code",
      "source": [
        ""
      ],
      "execution_count": 0,
      "outputs": []
    },
    {
      "metadata": {
        "id": "EYS5FyRzv3md",
        "colab_type": "code",
        "colab": {}
      },
      "cell_type": "code",
      "source": [
        ""
      ],
      "execution_count": 0,
      "outputs": []
    },
    {
      "metadata": {
        "id": "hJfbpGLDyFYV",
        "colab_type": "code",
        "colab": {}
      },
      "cell_type": "code",
      "source": [
        ""
      ],
      "execution_count": 0,
      "outputs": []
    },
    {
      "metadata": {
        "id": "lPayIn1Fy2ki",
        "colab_type": "code",
        "colab": {}
      },
      "cell_type": "code",
      "source": [
        ""
      ],
      "execution_count": 0,
      "outputs": []
    }
  ]
}